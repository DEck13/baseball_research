{
 "cells": [
  {
   "cell_type": "code",
   "execution_count": 1,
   "metadata": {},
   "outputs": [],
   "source": [
    "import pandas as pd\n",
    "import numpy as np"
   ]
  },
  {
   "cell_type": "code",
   "execution_count": 2,
   "metadata": {},
   "outputs": [],
   "source": [
    "target = pd.read_csv(\"YM2014.csv\")\n",
    "league = pd.read_csv(\"MLB2014.csv\")\n",
    "injury_date = (7.10,)\n",
    "recovered_date = (8.27,)\n",
    "strong_start = (0,)\n",
    "strong_end = (0,)\n",
    "min_to_be_Strong = 162\n",
    "min_to_be_Average = 162"
   ]
  },
  {
   "cell_type": "code",
   "execution_count": 3,
   "metadata": {},
   "outputs": [],
   "source": [
    "target = target[['Date', 'Tm', 'Opp', 'W/L']]\n",
    "league = league[['Tm', 'W']]\n",
    "league =league.rename(columns={'Tm' : 'Opp'})\n",
    "df = pd.merge(target, league, on = 'Opp')"
   ]
  },
  {
   "cell_type": "code",
   "execution_count": 4,
   "metadata": {},
   "outputs": [],
   "source": [
    "#helper function to modify the date data for later analysis\n",
    "def modi_date(date):\n",
    "    date_dict = {\n",
    "        'Mar': '3',\n",
    "        'Apr': '4',\n",
    "        'May': '5',\n",
    "        'Jun': '6',\n",
    "        'Jul': '7',\n",
    "        'Aug': '8',\n",
    "        'Sep': '9',\n",
    "        'Oct': '10'\n",
    "    }\n",
    "    date_split = date.split(\" \")[1:]\n",
    "    d = date_dict[date_split[0]]\n",
    "    return float('{}.{:0>2}'.format(date_dict[date_split[0]], date_split[1]))"
   ]
  },
  {
   "cell_type": "code",
   "execution_count": 5,
   "metadata": {},
   "outputs": [],
   "source": [
    "df['Date'] = df['Date'].apply(modi_date)\n",
    "df = df.sort_values(by = ['Date'])"
   ]
  },
  {
   "cell_type": "code",
   "execution_count": 6,
   "metadata": {},
   "outputs": [],
   "source": [
    "def get_winning_games_number(team_name: str):\n",
    "    return league[league['Opp'] == team_name]['W'].values[0]"
   ]
  },
  {
   "cell_type": "code",
   "execution_count": 7,
   "metadata": {},
   "outputs": [],
   "source": [
    "#helper function to get the classify an opponent's status: weak, average, or strong\n",
    "def get_oppo_status(team_name: str):\n",
    "    w_n = get_winning_games_number(team_name)\n",
    "    if w_n >= min_to_be_Strong:\n",
    "        return \"Strong\"\n",
    "    elif min_to_be_Average <= w_n < min_to_be_Strong:\n",
    "        return 'Average'\n",
    "    else:\n",
    "        return \"Weak\""
   ]
  },
  {
   "cell_type": "code",
   "execution_count": 8,
   "metadata": {},
   "outputs": [],
   "source": [
    "def get_avaliablity(date):\n",
    "    for inj, rec in zip(injury_date, recovered_date):\n",
    "        if inj <= date <= rec:\n",
    "            return False\n",
    "    return True"
   ]
  },
  {
   "cell_type": "code",
   "execution_count": 9,
   "metadata": {},
   "outputs": [],
   "source": [
    "def is_Strong(date):\n",
    "    for start, end in zip(strong_start, strong_end):\n",
    "        if start <= date < end:\n",
    "            return True\n",
    "    return False"
   ]
  },
  {
   "cell_type": "code",
   "execution_count": 10,
   "metadata": {},
   "outputs": [],
   "source": [
    "frame = pd.DataFrame({\n",
    "                      'Date': df['Date'], \n",
    "                      \"Aval\": df['Date'].apply(get_avaliablity), \n",
    "                      \"Strong\": df['Date'].apply(is_Strong),\n",
    "                      \"Opp-Status\": df['Opp'].apply(get_oppo_status),\n",
    "                      'Opp': df['Opp'],\n",
    "                      'W/L': df['W/L'], \n",
    "                      'Opp-W': df['W']\n",
    "                      })"
   ]
  },
  {
   "cell_type": "code",
   "execution_count": 11,
   "metadata": {},
   "outputs": [],
   "source": [
    "#helper funtion to calculate the number of the games in which the target team and its\n",
    "#opponent are classifies as a particular status.\n",
    "def count_category(data, strong=False, opp_status=None):\n",
    "    strong_series = data['Strong'] if strong else data['Strong'] == False\n",
    "    c1 = len(data[strong_series & (frame['Opp-Status'].str.match(opp_status))])\n",
    "    a1 = len(data)\n",
    "    #print('numerator :    ', c1)\n",
    "    #print('denumerator : ', a1)\n",
    "    #print('output: ', c1/a1)\n",
    "    return c1/a1"
   ]
  },
  {
   "cell_type": "code",
   "execution_count": 12,
   "metadata": {},
   "outputs": [],
   "source": [
    "def count_win(data, aval=False, strong=False, opp_status=None):\n",
    "    aval_series = data['Aval'] if aval else data['Aval'] == False\n",
    "    strong_series = data['Strong'] if strong else data['Strong'] == False\n",
    "    win = len(data[(data['W/L'].str.contains(\"W\")) & aval_series & strong_series & (frame['Opp-Status'].str.match(opp_status))])\n",
    "    number_of_all_games =  len(data[aval_series & strong_series & (frame['Opp-Status'].str.match(opp_status))])\n",
    "    #print('numerator :    ', win)\n",
    "    #print('denumerator : ', number_of_all_games)\n",
    "    if number_of_all_games == 0:\n",
    "        #print('output: ', 0)\n",
    "        return 0\n",
    "    else: \n",
    "        #print('output: ', win/number_of_all_games)\n",
    "        return win/number_of_all_games"
   ]
  },
  {
   "cell_type": "code",
   "execution_count": 13,
   "metadata": {},
   "outputs": [],
   "source": [
    "def get_WAR(data = frame):\n",
    "    \n",
    "    #print('P_Aval_Weak_weakOpp :')\n",
    "    aval_weak_weak = count_win(data, aval = True, strong = False, opp_status=\"Weak\") \n",
    "    #print('P_Unaval_Weak_weakOpp :')\n",
    "    unaval_weal_weak = count_win(data, aval = False, strong = False, opp_status=\"Weak\")\n",
    "    #print('P X = Weak_weakOpp :')\n",
    "    weak_weak = count_category(data, strong = False, opp_status=\"Weak\")\n",
    "    \n",
    "    #print('P_Aval_Weak_averageOpp :')\n",
    "    aval_weak_average = count_win(data, aval = True, strong = False, opp_status=\"Average\")\n",
    "    #print('P_Unaval_Weak_averageOpp :')\n",
    "    unaval_weak_average = count_win(data, aval = False, strong = False, opp_status=\"Average\")\n",
    "    #print('P X = Weak_averageOpp :')\n",
    "    weak_average = count_category(data, strong = False, opp_status=\"Average\")\n",
    "    \n",
    "    #print('P_Aval_Weak_strongOpp :')\n",
    "    aval_weak_strong = count_win(data, aval = True, strong = False, opp_status=\"Strong\")\n",
    "    #print('P_Unaval_Weak_strongOpp :')\n",
    "    unaval_weak_strong = count_win(data, aval = False, strong = False, opp_status=\"Strong\")\n",
    "    #print('P X = Weak_strongOpp :')\n",
    "    weak_strong = count_category(data, strong = False, opp_status=\"Strong\")\n",
    "    \n",
    "    #print('P_Aval_Strong_weakOpp :')\n",
    "    aval_strong_weak = count_win(data, aval = True, strong = True, opp_status=\"Weak\") \n",
    "    #print('P_Unaval_Strong_weakOpp :')\n",
    "    unaval_strong_weak = count_win(data, aval = False, strong = True, opp_status=\"Weak\")\n",
    "    #print('P X = Strong_weakOpp :')\n",
    "    strong_weak = count_category(data, strong = True, opp_status=\"Weak\")\n",
    "    \n",
    "    #print('P_Aval_Strong_averageOpp :')\n",
    "    aval_strong_average = count_win(data, aval = True, strong = True, opp_status=\"Average\")\n",
    "    #print('P_Unaval_Strong_averageOpp :')\n",
    "    unaval_strong_average = count_win(data, aval = False, strong = True, opp_status=\"Average\")\n",
    "    #print('P X = Strong_averageOpp :')\n",
    "    strong_average = count_category(data, strong = True, opp_status=\"Average\")\n",
    "    \n",
    "    #print('P_Aval_Strong_strongOpp :')\n",
    "    aval_strong_strong = count_win(data, aval = True, strong = True, opp_status=\"Strong\")\n",
    "    #print('P_Unaval_Strong_strongOpp :')\n",
    "    unaval_strong_strong = count_win(data, aval = False, strong = True, opp_status=\"Strong\")\n",
    "    #print('P X = Strong_strongOpp :')\n",
    "    strong_strong = count_category(data, strong = True, opp_status=\"Strong\")\n",
    "    \n",
    "    war = ((aval_weak_weak - unaval_weal_weak)* weak_weak\n",
    "           + (aval_weak_average - unaval_weak_average)* weak_average\n",
    "           + (aval_weak_strong - unaval_weak_strong)* weak_strong \n",
    "           + (aval_strong_weak - unaval_strong_weak)* strong_weak\n",
    "           + (aval_strong_average - unaval_strong_average)* strong_average \n",
    "           + (aval_strong_strong - unaval_strong_strong)* strong_strong) * 110\n",
    "    return war"
   ]
  },
  {
   "cell_type": "code",
   "execution_count": 14,
   "metadata": {},
   "outputs": [],
   "source": [
    "def WAR_change_oppSAW():\n",
    "    output = []\n",
    "    new_df = frame\n",
    "    for i in range(80,95):\n",
    "        for j in range(70, i):\n",
    "            \n",
    "            #helper function to change the data\n",
    "            def new_opp_status(team_name: str):\n",
    "                w_n = get_winning_games_number(team_name)\n",
    "                if w_n >= i:\n",
    "                    return \"Strong\"\n",
    "                elif j <= w_n < i:\n",
    "                    return 'Average'\n",
    "                else:\n",
    "                    return \"Weak\"\n",
    "                \n",
    "            new_df['Opp-Status'] = new_df['Opp'].apply(new_opp_status)\n",
    "            twar = round(get_WAR(new_df), 4)\n",
    "            temp = [i, j, twar]\n",
    "            output.append(temp)\n",
    "    return output"
   ]
  },
  {
   "cell_type": "code",
   "execution_count": 15,
   "metadata": {},
   "outputs": [],
   "source": [
    "x = WAR_change_oppSAW()"
   ]
  },
  {
   "cell_type": "code",
   "execution_count": 16,
   "metadata": {},
   "outputs": [],
   "source": [
    "factor1 = []\n",
    "factor2 = []\n",
    "result = []\n",
    "for row in x:\n",
    "    factor1.append(row[0])\n",
    "    factor2.append(row[1])\n",
    "    result.append(row[2])\n",
    "df2 = pd.DataFrame({\n",
    "    'min_to_be_Strong': factor1,\n",
    "    'min_to_be_Average': factor2,\n",
    "    'war': result\n",
    "    })\n",
    "df2 = df2.pivot(index='min_to_be_Average', columns='min_to_be_Strong', values='war')\n",
    "df2.to_excel('YM2014_Isolate_target_win.xlsx')"
   ]
  },
  {
   "cell_type": "code",
   "execution_count": null,
   "metadata": {},
   "outputs": [],
   "source": []
  }
 ],
 "metadata": {
  "kernelspec": {
   "display_name": "Python 3",
   "language": "python",
   "name": "python3"
  },
  "language_info": {
   "codemirror_mode": {
    "name": "ipython",
    "version": 3
   },
   "file_extension": ".py",
   "mimetype": "text/x-python",
   "name": "python",
   "nbconvert_exporter": "python",
   "pygments_lexer": "ipython3",
   "version": "3.7.1"
  }
 },
 "nbformat": 4,
 "nbformat_minor": 2
}
